{
 "cells": [
  {
   "cell_type": "code",
   "execution_count": 1,
   "id": "ee233922",
   "metadata": {},
   "outputs": [],
   "source": [
    "import pandas as pd\n",
    "\n",
    "import tensorflow as tf\n",
    "from tensorflow import keras\n",
    "\n",
    "from tensorflow.keras.preprocessing.sequence import pad_sequences\n",
    "from tensorflow.keras.preprocessing.text import Tokenizer\n",
    "from tensorflow.keras.callbacks import EarlyStopping\n",
    "from tensorflow.keras.regularizers import l1\n",
    "from tensorflow.keras.regularizers import l2\n",
    "from tensorflow.keras.regularizers import L1L2\n",
    "\n",
    "from sklearn.model_selection import train_test_split\n",
    "import matplotlib.pyplot as plt\n",
    "\n",
    "import re\n",
    "import sqlite3 "
   ]
  },
  {
   "cell_type": "code",
   "execution_count": 2,
   "id": "ec5aec78",
   "metadata": {},
   "outputs": [
    {
     "data": {
      "text/html": [
       "<div>\n",
       "<style scoped>\n",
       "    .dataframe tbody tr th:only-of-type {\n",
       "        vertical-align: middle;\n",
       "    }\n",
       "\n",
       "    .dataframe tbody tr th {\n",
       "        vertical-align: top;\n",
       "    }\n",
       "\n",
       "    .dataframe thead th {\n",
       "        text-align: right;\n",
       "    }\n",
       "</style>\n",
       "<table border=\"1\" class=\"dataframe\">\n",
       "  <thead>\n",
       "    <tr style=\"text-align: right;\">\n",
       "      <th></th>\n",
       "      <th>text</th>\n",
       "      <th>label</th>\n",
       "    </tr>\n",
       "  </thead>\n",
       "  <tbody>\n",
       "    <tr>\n",
       "      <th>0</th>\n",
       "      <td>warung ini dimiliki oleh pengusaha pabrik tahu...</td>\n",
       "      <td>positive</td>\n",
       "    </tr>\n",
       "    <tr>\n",
       "      <th>1</th>\n",
       "      <td>mohon ulama lurus dan k212 mmbri hujjah partai...</td>\n",
       "      <td>neutral</td>\n",
       "    </tr>\n",
       "    <tr>\n",
       "      <th>2</th>\n",
       "      <td>lokasi strategis di jalan sumatera bandung . t...</td>\n",
       "      <td>positive</td>\n",
       "    </tr>\n",
       "    <tr>\n",
       "      <th>3</th>\n",
       "      <td>betapa bahagia nya diri ini saat unboxing pake...</td>\n",
       "      <td>positive</td>\n",
       "    </tr>\n",
       "    <tr>\n",
       "      <th>4</th>\n",
       "      <td>duh . jadi mahasiswa jangan sombong dong . kas...</td>\n",
       "      <td>negative</td>\n",
       "    </tr>\n",
       "  </tbody>\n",
       "</table>\n",
       "</div>"
      ],
      "text/plain": [
       "                                                text     label\n",
       "0  warung ini dimiliki oleh pengusaha pabrik tahu...  positive\n",
       "1  mohon ulama lurus dan k212 mmbri hujjah partai...   neutral\n",
       "2  lokasi strategis di jalan sumatera bandung . t...  positive\n",
       "3  betapa bahagia nya diri ini saat unboxing pake...  positive\n",
       "4  duh . jadi mahasiswa jangan sombong dong . kas...  negative"
      ]
     },
     "execution_count": 2,
     "metadata": {},
     "output_type": "execute_result"
    }
   ],
   "source": [
    "df = pd.read_csv('train_preprocess.tsv', encoding='latin-1',sep='\\t', names=['text', 'label'])\n",
    "df.head()"
   ]
  },
  {
   "cell_type": "code",
   "execution_count": 3,
   "id": "4ba304ff",
   "metadata": {},
   "outputs": [],
   "source": [
    "#Ubah text menjadi lower\n",
    "def lower(text):\n",
    "    return text.lower()"
   ]
  },
  {
   "cell_type": "code",
   "execution_count": 4,
   "id": "364bf7cd",
   "metadata": {},
   "outputs": [],
   "source": [
    "def hapuskarakter(text):\n",
    "    text = re.sub('\\n',' ', text)\n",
    "    text = re.sub('rt',' ', text)\n",
    "    text = re.sub('user',' ', text)\n",
    "    text = re.sub('((www\\.[^\\s]+)|(https?://[^\\s]+)|(http?://[^\\s]+))',' ',text)\n",
    "    text = re.sub('  +',' ', text)\n",
    "    return text"
   ]
  },
  {
   "cell_type": "code",
   "execution_count": 5,
   "id": "7bcdb0c2",
   "metadata": {},
   "outputs": [],
   "source": [
    "#Baca Table Kamus Alay\n",
    "db = sqlite3.connect('dbp.db', check_same_thread=False)\n",
    "db.text_factory = bytes\n",
    "mycursor = db.cursor()\n",
    "\n",
    "query = \"select * from kamus_alay\"\n",
    "kamusalay = pd.read_sql_query(query, db)\n",
    "kamusalay['hasil clean'] = kamusalay['hasil clean'].str.decode('utf-8')\n",
    "kamusalay['kata alay'] = kamusalay['kata alay'].str.decode('utf-8')\n",
    "\n",
    "alay_dict_map = dict(zip(kamusalay['kata alay'], kamusalay['hasil clean']))\n",
    "def replace_kamus_alay(text):\n",
    "    for word in alay_dict_map:\n",
    "        return ' '.join([alay_dict_map[word] if word in alay_dict_map else word for word in text.split(' ')])"
   ]
  },
  {
   "cell_type": "code",
   "execution_count": 6,
   "id": "dbfba846",
   "metadata": {},
   "outputs": [],
   "source": [
    "def cleansing(text):\n",
    "    text = lower(text)\n",
    "    text = hapuskarakter(text)\n",
    "    text = replace_kamus_alay(text)\n",
    "    return text"
   ]
  },
  {
   "cell_type": "code",
   "execution_count": 7,
   "id": "3b407233",
   "metadata": {},
   "outputs": [
    {
     "data": {
      "text/html": [
       "<div>\n",
       "<style scoped>\n",
       "    .dataframe tbody tr th:only-of-type {\n",
       "        vertical-align: middle;\n",
       "    }\n",
       "\n",
       "    .dataframe tbody tr th {\n",
       "        vertical-align: top;\n",
       "    }\n",
       "\n",
       "    .dataframe thead th {\n",
       "        text-align: right;\n",
       "    }\n",
       "</style>\n",
       "<table border=\"1\" class=\"dataframe\">\n",
       "  <thead>\n",
       "    <tr style=\"text-align: right;\">\n",
       "      <th></th>\n",
       "      <th>text</th>\n",
       "      <th>label</th>\n",
       "      <th>text_clean</th>\n",
       "    </tr>\n",
       "  </thead>\n",
       "  <tbody>\n",
       "    <tr>\n",
       "      <th>0</th>\n",
       "      <td>warung ini dimiliki oleh pengusaha pabrik tahu...</td>\n",
       "      <td>positive</td>\n",
       "      <td>warung ini dimiliki oleh pengusaha pabrik tahu...</td>\n",
       "    </tr>\n",
       "    <tr>\n",
       "      <th>1</th>\n",
       "      <td>mohon ulama lurus dan k212 mmbri hujjah partai...</td>\n",
       "      <td>neutral</td>\n",
       "      <td>mohon ulama lurus dan k212 mmbri hujjah pak ai...</td>\n",
       "    </tr>\n",
       "    <tr>\n",
       "      <th>2</th>\n",
       "      <td>lokasi strategis di jalan sumatera bandung . t...</td>\n",
       "      <td>positive</td>\n",
       "      <td>lokasi strategis di jalan sumatra bandung . te...</td>\n",
       "    </tr>\n",
       "    <tr>\n",
       "      <th>3</th>\n",
       "      <td>betapa bahagia nya diri ini saat unboxing pake...</td>\n",
       "      <td>positive</td>\n",
       "      <td>betapa bahagia nya diri ini saat unboxing pake...</td>\n",
       "    </tr>\n",
       "    <tr>\n",
       "      <th>4</th>\n",
       "      <td>duh . jadi mahasiswa jangan sombong dong . kas...</td>\n",
       "      <td>negative</td>\n",
       "      <td>aduh . jadi mahasiswa jangan sombong dong . ka...</td>\n",
       "    </tr>\n",
       "  </tbody>\n",
       "</table>\n",
       "</div>"
      ],
      "text/plain": [
       "                                                text     label  \\\n",
       "0  warung ini dimiliki oleh pengusaha pabrik tahu...  positive   \n",
       "1  mohon ulama lurus dan k212 mmbri hujjah partai...   neutral   \n",
       "2  lokasi strategis di jalan sumatera bandung . t...  positive   \n",
       "3  betapa bahagia nya diri ini saat unboxing pake...  positive   \n",
       "4  duh . jadi mahasiswa jangan sombong dong . kas...  negative   \n",
       "\n",
       "                                          text_clean  \n",
       "0  warung ini dimiliki oleh pengusaha pabrik tahu...  \n",
       "1  mohon ulama lurus dan k212 mmbri hujjah pak ai...  \n",
       "2  lokasi strategis di jalan sumatra bandung . te...  \n",
       "3  betapa bahagia nya diri ini saat unboxing pake...  \n",
       "4  aduh . jadi mahasiswa jangan sombong dong . ka...  "
      ]
     },
     "execution_count": 7,
     "metadata": {},
     "output_type": "execute_result"
    }
   ],
   "source": [
    "df['text_clean'] = df.text.apply(cleansing)\n",
    "df.head()"
   ]
  },
  {
   "cell_type": "code",
   "execution_count": 8,
   "id": "0bbd88bd",
   "metadata": {},
   "outputs": [
    {
     "data": {
      "text/html": [
       "<div>\n",
       "<style scoped>\n",
       "    .dataframe tbody tr th:only-of-type {\n",
       "        vertical-align: middle;\n",
       "    }\n",
       "\n",
       "    .dataframe tbody tr th {\n",
       "        vertical-align: top;\n",
       "    }\n",
       "\n",
       "    .dataframe thead th {\n",
       "        text-align: right;\n",
       "    }\n",
       "</style>\n",
       "<table border=\"1\" class=\"dataframe\">\n",
       "  <thead>\n",
       "    <tr style=\"text-align: right;\">\n",
       "      <th></th>\n",
       "      <th>text_clean</th>\n",
       "      <th>negative</th>\n",
       "      <th>neutral</th>\n",
       "      <th>positive</th>\n",
       "    </tr>\n",
       "  </thead>\n",
       "  <tbody>\n",
       "    <tr>\n",
       "      <th>0</th>\n",
       "      <td>warung ini dimiliki oleh pengusaha pabrik tahu...</td>\n",
       "      <td>0</td>\n",
       "      <td>0</td>\n",
       "      <td>1</td>\n",
       "    </tr>\n",
       "    <tr>\n",
       "      <th>1</th>\n",
       "      <td>mohon ulama lurus dan k212 mmbri hujjah pak ai...</td>\n",
       "      <td>0</td>\n",
       "      <td>1</td>\n",
       "      <td>0</td>\n",
       "    </tr>\n",
       "    <tr>\n",
       "      <th>2</th>\n",
       "      <td>lokasi strategis di jalan sumatra bandung . te...</td>\n",
       "      <td>0</td>\n",
       "      <td>0</td>\n",
       "      <td>1</td>\n",
       "    </tr>\n",
       "    <tr>\n",
       "      <th>3</th>\n",
       "      <td>betapa bahagia nya diri ini saat unboxing pake...</td>\n",
       "      <td>0</td>\n",
       "      <td>0</td>\n",
       "      <td>1</td>\n",
       "    </tr>\n",
       "    <tr>\n",
       "      <th>4</th>\n",
       "      <td>aduh . jadi mahasiswa jangan sombong dong . ka...</td>\n",
       "      <td>1</td>\n",
       "      <td>0</td>\n",
       "      <td>0</td>\n",
       "    </tr>\n",
       "  </tbody>\n",
       "</table>\n",
       "</div>"
      ],
      "text/plain": [
       "                                          text_clean  negative  neutral  \\\n",
       "0  warung ini dimiliki oleh pengusaha pabrik tahu...         0        0   \n",
       "1  mohon ulama lurus dan k212 mmbri hujjah pak ai...         0        1   \n",
       "2  lokasi strategis di jalan sumatra bandung . te...         0        0   \n",
       "3  betapa bahagia nya diri ini saat unboxing pake...         0        0   \n",
       "4  aduh . jadi mahasiswa jangan sombong dong . ka...         1        0   \n",
       "\n",
       "   positive  \n",
       "0         1  \n",
       "1         0  \n",
       "2         1  \n",
       "3         1  \n",
       "4         0  "
      ]
     },
     "execution_count": 8,
     "metadata": {},
     "output_type": "execute_result"
    }
   ],
   "source": [
    "category = pd.get_dummies(df.label)\n",
    "df_baru = pd.concat([df, category], axis=1)\n",
    "df_baru = df_baru.drop(columns=['label','text'])\n",
    "df_baru.head()"
   ]
  },
  {
   "cell_type": "code",
   "execution_count": 9,
   "id": "fb981c7c",
   "metadata": {},
   "outputs": [],
   "source": [
    "x = df_baru['text_clean'].values\n",
    "y = df_baru[['negative', 'neutral', 'positive']].values"
   ]
  },
  {
   "cell_type": "code",
   "execution_count": 10,
   "id": "8c8a8132",
   "metadata": {},
   "outputs": [],
   "source": [
    "tokenizer = Tokenizer(num_words=10000, oov_token='x')\n",
    "tokenizer.fit_on_texts(x)"
   ]
  },
  {
   "cell_type": "code",
   "execution_count": 11,
   "id": "c148ab4b",
   "metadata": {},
   "outputs": [],
   "source": [
    "sekuens_x = tokenizer.texts_to_sequences(x)"
   ]
  },
  {
   "cell_type": "code",
   "execution_count": 12,
   "id": "27e1e521",
   "metadata": {},
   "outputs": [],
   "source": [
    "padded_x = pad_sequences(sekuens_x) "
   ]
  },
  {
   "cell_type": "code",
   "execution_count": 13,
   "id": "ba92f621",
   "metadata": {},
   "outputs": [],
   "source": [
    "x_train, x_test, y_train, y_test = train_test_split(padded_x, y, test_size=0.2, random_state = 4)\n",
    "\n",
    "x_train, x_val, y_train, y_val = train_test_split(x_train, y_train, test_size=0.2, random_state = 4)"
   ]
  },
  {
   "cell_type": "code",
   "execution_count": 14,
   "id": "b0bbf7ee",
   "metadata": {},
   "outputs": [],
   "source": [
    "model = tf.keras.Sequential([\n",
    "    tf.keras.layers.Embedding(input_dim=10000, output_dim=4),\n",
    "    \n",
    "    tf.keras.layers.LSTM(4),\n",
    "    \n",
    "    tf.keras.layers.Dense(4, kernel_regularizer=L1L2(l1=0.01, l2=0.01), activation='relu'),\n",
    "    tf.keras.layers.Dropout(0.2),\n",
    "    tf.keras.layers.BatchNormalization(), \n",
    "    \n",
    "#     tf.keras.layers.Dense(4, kernel_regularizer=L1L2(l1=0.01, l2=0.01), activation='relu'),\n",
    "#     tf.keras.layers.Dropout(0.1),\n",
    "#     tf.keras.layers.BatchNormalization(), \n",
    "    \n",
    "    tf.keras.layers.Dense(3, activation='softmax')\n",
    "])"
   ]
  },
  {
   "cell_type": "code",
   "execution_count": 15,
   "id": "a88baf4b",
   "metadata": {},
   "outputs": [],
   "source": [
    "# early_stop = EarlyStopping(monitor='val_categorical_accuracy', mode='min')"
   ]
  },
  {
   "cell_type": "code",
   "execution_count": 16,
   "id": "09123b50",
   "metadata": {},
   "outputs": [],
   "source": [
    "class myCallback(tf.keras.callbacks.Callback):\n",
    "    def on_epoch_end(self, epoch, logs={}):\n",
    "        if(logs.get('val_categorical_accuracy') > 0.85 ):\n",
    "            self.model.stop_training = True\n",
    "\n",
    "callbacks = myCallback()"
   ]
  },
  {
   "cell_type": "code",
   "execution_count": 17,
   "id": "50e48056",
   "metadata": {},
   "outputs": [
    {
     "name": "stdout",
     "output_type": "stream",
     "text": [
      "Model: \"sequential\"\n",
      "_________________________________________________________________\n",
      " Layer (type)                Output Shape              Param #   \n",
      "=================================================================\n",
      " embedding (Embedding)       (None, None, 4)           40000     \n",
      "                                                                 \n",
      " lstm (LSTM)                 (None, 4)                 144       \n",
      "                                                                 \n",
      " dense (Dense)               (None, 4)                 20        \n",
      "                                                                 \n",
      " dropout (Dropout)           (None, 4)                 0         \n",
      "                                                                 \n",
      " batch_normalization (BatchN  (None, 4)                16        \n",
      " ormalization)                                                   \n",
      "                                                                 \n",
      " dense_1 (Dense)             (None, 3)                 15        \n",
      "                                                                 \n",
      "=================================================================\n",
      "Total params: 40,195\n",
      "Trainable params: 40,187\n",
      "Non-trainable params: 8\n",
      "_________________________________________________________________\n",
      "None\n"
     ]
    }
   ],
   "source": [
    "model.compile(loss='categorical_crossentropy',\n",
    "              optimizer=keras.optimizers.Adam(),\n",
    "              metrics=['categorical_accuracy'])\n",
    "print(model.summary())"
   ]
  },
  {
   "cell_type": "code",
   "execution_count": 18,
   "id": "91199f7f",
   "metadata": {},
   "outputs": [
    {
     "name": "stdout",
     "output_type": "stream",
     "text": [
      "Epoch 1/1000\n",
      "220/220 [==============================] - 14s 42ms/step - loss: 0.9563 - categorical_accuracy: 0.6341 - val_loss: 0.9310 - val_categorical_accuracy: 0.6102\n",
      "Epoch 2/1000\n",
      "220/220 [==============================] - 7s 34ms/step - loss: 0.6221 - categorical_accuracy: 0.7675 - val_loss: 0.6520 - val_categorical_accuracy: 0.7653\n",
      "Epoch 3/1000\n",
      "220/220 [==============================] - 8s 35ms/step - loss: 0.5015 - categorical_accuracy: 0.8188 - val_loss: 0.4756 - val_categorical_accuracy: 0.8256\n",
      "Epoch 4/1000\n",
      "220/220 [==============================] - 8s 34ms/step - loss: 0.4157 - categorical_accuracy: 0.8558 - val_loss: 0.4447 - val_categorical_accuracy: 0.8506\n",
      "CPU times: total: 1min 20s\n",
      "Wall time: 36.8 s\n"
     ]
    }
   ],
   "source": [
    "%%time\n",
    "num_epochs = 1000\n",
    "fit = model.fit(x_train, \n",
    "                y_train, \n",
    "#                 batch_size = 16,\n",
    "                epochs=num_epochs, \n",
    "                validation_data=(x_val, y_val),\n",
    "#                 validation_split=0.2,       \n",
    "                callbacks = [callbacks]\n",
    ")"
   ]
  },
  {
   "cell_type": "code",
   "execution_count": 19,
   "id": "08640339",
   "metadata": {},
   "outputs": [
    {
     "data": {
      "image/png": "[encoded data removed]",
      "text/plain": [
       "<Figure size 640x480 with 1 Axes>"
      ]
     },
     "metadata": {},
     "output_type": "display_data"
    }
   ],
   "source": [
    "plt.plot(fit.history['categorical_accuracy'], label='train')\n",
    "plt.plot(fit.history['val_categorical_accuracy'], label='test')\n",
    "plt.legend()\n",
    "plt.show()"
   ]
  },
  {
   "cell_type": "code",
   "execution_count": 20,
   "id": "9c89d198",
   "metadata": {},
   "outputs": [
    {
     "data": {
      "image/png": "[encoded data removed]",
      "text/plain": [
       "<Figure size 640x480 with 1 Axes>"
      ]
     },
     "metadata": {},
     "output_type": "display_data"
    }
   ],
   "source": [
    "plt.plot(fit.history['loss'], label='train')\n",
    "plt.plot(fit.history['val_loss'], label='val')\n",
    "plt.legend()\n",
    "plt.show()"
   ]
  },
  {
   "cell_type": "code",
   "execution_count": 21,
   "id": "c5447b1c",
   "metadata": {},
   "outputs": [
    {
     "name": "stdout",
     "output_type": "stream",
     "text": [
      "16/16 [==============================] - 1s 25ms/step - loss: 0.2600 - categorical_accuracy: 0.9493\n",
      "16/16 [==============================] - 0s 15ms/step - loss: 0.4447 - categorical_accuracy: 0.8506\n",
      "16/16 [==============================] - 0s 16ms/step - loss: 0.4650 - categorical_accuracy: 0.8486\n",
      "\n",
      "Train: 0.949, val: 0.851, test: 0.849,\n"
     ]
    }
   ],
   "source": [
    "train_loss, train_acc = model.evaluate(x_train, y_train, steps=16)\n",
    "val_loss, val_acc = model.evaluate(x_val, y_val, steps=16)\n",
    "test_loss, test_acc = model.evaluate(x_test, y_test, steps=16)\n",
    "\n",
    "print('\\nTrain: %.3f, val: %.3f, test: %.3f,' % (train_acc, val_acc, test_acc))"
   ]
  },
  {
   "cell_type": "code",
   "execution_count": 22,
   "id": "530b9f78",
   "metadata": {},
   "outputs": [],
   "source": [
    "filename = 'Model_LSTM.h5'\n",
    "model.save(filename)"
   ]
  },
  {
   "cell_type": "code",
   "execution_count": 23,
   "id": "cf3569af",
   "metadata": {},
   "outputs": [],
   "source": [
    "import io\n",
    "import json\n",
    "\n",
    "tokenizer_json = tokenizer.to_json()\n",
    "with io.open('tokenizer.json', 'w', encoding='utf-8') as f:\n",
    "    f.write(json.dumps(tokenizer_json, ensure_ascii=False))"
   ]
  },
  {
   "cell_type": "code",
   "execution_count": null,
   "id": "497f5ef6",
   "metadata": {},
   "outputs": [],
   "source": []
  }
 ],
 "metadata": {
  "kernelspec": {
   "display_name": "Python 3 (ipykernel)",
   "language": "python",
   "name": "python3"
  },
  "language_info": {
   "codemirror_mode": {
    "name": "ipython",
    "version": 3
   },
   "file_extension": ".py",
   "mimetype": "text/x-python",
   "name": "python",
   "nbconvert_exporter": "python",
   "pygments_lexer": "ipython3",
   "version": "3.10.7"
  }
 },
 "nbformat": 4,
 "nbformat_minor": 5
}
