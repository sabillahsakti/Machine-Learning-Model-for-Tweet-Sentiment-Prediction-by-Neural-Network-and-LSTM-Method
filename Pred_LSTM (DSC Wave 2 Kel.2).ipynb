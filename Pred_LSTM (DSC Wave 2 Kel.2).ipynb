{
 "cells": [
  {
   "cell_type": "code",
   "execution_count": 1,
   "id": "890664a4",
   "metadata": {},
   "outputs": [],
   "source": [
    "from tensorflow.keras.models import load_model\n",
    "from tensorflow.keras.preprocessing.text import Tokenizer\n",
    "from tensorflow.keras.preprocessing.sequence import pad_sequences\n",
    "import json\n",
    "import re\n",
    "import sqlite3 \n",
    "import pandas as pd"
   ]
  },
  {
   "cell_type": "code",
   "execution_count": 2,
   "id": "9c55d96c",
   "metadata": {},
   "outputs": [],
   "source": [
    "from tensorflow.keras.preprocessing.text import tokenizer_from_json\n",
    "\n",
    "with open('tokenizer.json') as f:\n",
    "    data = json.load(f)\n",
    "    tokenizer = tokenizer_from_json(data)"
   ]
  },
  {
   "cell_type": "code",
   "execution_count": 3,
   "id": "1f15d2fb",
   "metadata": {},
   "outputs": [],
   "source": [
    "loaded_model = load_model(r'Model_LSTM.h5')"
   ]
  },
  {
   "cell_type": "code",
   "execution_count": 4,
   "id": "e02edd4c",
   "metadata": {},
   "outputs": [],
   "source": [
    "#Ubah text menjadi lower\n",
    "def lower(text):\n",
    "    return text.lower()"
   ]
  },
  {
   "cell_type": "code",
   "execution_count": 5,
   "id": "d76068e9",
   "metadata": {},
   "outputs": [],
   "source": [
    "def hapuskarakter(text):\n",
    "    text = re.sub('\\n',' ', text)\n",
    "    text = re.sub('rt',' ', text)\n",
    "    text = re.sub('user',' ', text)\n",
    "    text = re.sub('((www\\.[^\\s]+)|(https?://[^\\s]+)|(http?://[^\\s]+))',' ',text)\n",
    "    text = re.sub('  +',' ', text)\n",
    "    return text"
   ]
  },
  {
   "cell_type": "code",
   "execution_count": 6,
   "id": "11cbcef8",
   "metadata": {},
   "outputs": [],
   "source": [
    "db = sqlite3.connect('dbp.db', check_same_thread=False)\n",
    "db.text_factory = bytes\n",
    "mycursor = db.cursor()\n",
    "\n",
    "#Baca Table Kamus Alay\n",
    "query = \"select * from kamus_alay\"\n",
    "kamusalay = pd.read_sql_query(query, db)\n",
    "kamusalay['hasil clean'] = kamusalay['hasil clean'].str.decode('utf-8')\n",
    "kamusalay['kata alay'] = kamusalay['kata alay'].str.decode('utf-8')\n",
    "\n",
    "alay_dict_map = dict(zip(kamusalay['kata alay'], kamusalay['hasil clean']))\n",
    "def replace_kamus_alay(text):\n",
    "    for word in alay_dict_map:\n",
    "        return ' '.join([alay_dict_map[word] if word in alay_dict_map else word for word in text.split(' ')])"
   ]
  },
  {
   "cell_type": "code",
   "execution_count": 7,
   "id": "e7d17a13",
   "metadata": {},
   "outputs": [],
   "source": [
    "def cleansing(text):\n",
    "    text = lower(text)\n",
    "    text = hapuskarakter(text)\n",
    "    text = replace_kamus_alay(text)\n",
    "    return text"
   ]
  },
  {
   "cell_type": "code",
   "execution_count": 8,
   "id": "0db60df1",
   "metadata": {},
   "outputs": [],
   "source": [
    "def pred_sentiment(string):    \n",
    "    string = cleansing(string)\n",
    "\n",
    "    sekuens_x = tokenizer.texts_to_sequences([string])\n",
    "    padded_x = pad_sequences(sekuens_x)\n",
    "\n",
    "    classes = loaded_model.predict(padded_x, batch_size=10)\n",
    "\n",
    "    return classes[0]"
   ]
  },
  {
   "cell_type": "code",
   "execution_count": 9,
   "id": "3089e25f",
   "metadata": {},
   "outputs": [],
   "source": [
    "def pred(classes):\n",
    "    if classes[0] == classes.max():\n",
    "        print('negative')\n",
    "    if classes[1] == classes.max():\n",
    "        print('neutral')\n",
    "    if classes[2] == classes.max():\n",
    "        print('positive')"
   ]
  },
  {
   "cell_type": "code",
   "execution_count": 10,
   "id": "531f599a",
   "metadata": {},
   "outputs": [],
   "source": [
    "string = \"Dasar Kamu bodoh!\""
   ]
  },
  {
   "cell_type": "code",
   "execution_count": 11,
   "id": "cf64d2c4",
   "metadata": {},
   "outputs": [
    {
     "name": "stdout",
     "output_type": "stream",
     "text": [
      "1/1 [==============================] - 1s 872ms/step\n",
      "negative\n"
     ]
    }
   ],
   "source": [
    "classes = pred_sentiment(string)\n",
    "pred(classes)"
   ]
  },
  {
   "cell_type": "code",
   "execution_count": 12,
   "id": "037ef458",
   "metadata": {},
   "outputs": [],
   "source": [
    "string = \"Binar Academy merupakan lembaga pendidikan yang menyelenggarakan program kursus dalam bidang digital\""
   ]
  },
  {
   "cell_type": "code",
   "execution_count": 13,
   "id": "2329acae",
   "metadata": {},
   "outputs": [
    {
     "name": "stdout",
     "output_type": "stream",
     "text": [
      "1/1 [==============================] - 1s 656ms/step\n",
      "neutral\n"
     ]
    }
   ],
   "source": [
    "classes = pred_sentiment(string)\n",
    "pred(classes)"
   ]
  },
  {
   "cell_type": "code",
   "execution_count": 14,
   "id": "9ac888f5",
   "metadata": {},
   "outputs": [],
   "source": [
    "string = \"setiap bumn dibentuk dengan uu bukan dibentuk dengan uu\""
   ]
  },
  {
   "cell_type": "code",
   "execution_count": 15,
   "id": "b35c77bd",
   "metadata": {},
   "outputs": [
    {
     "name": "stdout",
     "output_type": "stream",
     "text": [
      "1/1 [==============================] - 0s 31ms/step\n",
      "neutral\n"
     ]
    }
   ],
   "source": [
    "classes = pred_sentiment(string)\n",
    "pred(classes)"
   ]
  },
  {
   "cell_type": "code",
   "execution_count": 16,
   "id": "e9e0d77b",
   "metadata": {},
   "outputs": [],
   "source": [
    "string = \"km jelek bgt sich!\""
   ]
  },
  {
   "cell_type": "code",
   "execution_count": 17,
   "id": "da5d87d5",
   "metadata": {},
   "outputs": [
    {
     "name": "stdout",
     "output_type": "stream",
     "text": [
      "1/1 [==============================] - 0s 31ms/step\n",
      "negative\n"
     ]
    }
   ],
   "source": [
    "classes = pred_sentiment(string)\n",
    "pred(classes)"
   ]
  }
 ],
 "metadata": {
  "kernelspec": {
   "display_name": "Python 3 (ipykernel)",
   "language": "python",
   "name": "python3"
  },
  "language_info": {
   "codemirror_mode": {
    "name": "ipython",
    "version": 3
   },
   "file_extension": ".py",
   "mimetype": "text/x-python",
   "name": "python",
   "nbconvert_exporter": "python",
   "pygments_lexer": "ipython3",
   "version": "3.10.7"
  }
 },
 "nbformat": 4,
 "nbformat_minor": 5
}
